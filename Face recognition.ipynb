{
 "cells": [
  {
   "cell_type": "code",
   "execution_count": 3,
   "id": "982f6425-b0ca-4f26-b49a-bc3092b98ab9",
   "metadata": {},
   "outputs": [],
   "source": [
    "import cv2\n",
    "#camera, image processing"
   ]
  },
  {
   "cell_type": "code",
   "execution_count": 5,
   "id": "722cd634-aee8-4330-9b91-95d95dc3185f",
   "metadata": {},
   "outputs": [],
   "source": [
    "#video_cap=cv2.VideoCapture(0)\n",
    "#while True:\n",
    "#    ret, video_data= video_cap.read()\n",
    "#    cv2.imshow(\"video_live\",video_data)\n",
    "#    if cv2.waitKey(10) == ord(\"a\"):\n",
    "#        break\n",
    "#video_cap.release()\n",
    "#to enable camera"
   ]
  },
  {
   "cell_type": "code",
   "execution_count": 9,
   "id": "2bdd033b-bd5f-48b5-afbb-0606c1de295d",
   "metadata": {},
   "outputs": [],
   "source": [
    "face_cap=cv2.CascadeClassifier(\"C:/Users/KIIT0001/AppData/Local/Programs/Python/Python313/Lib/site-packages/cv2/data/haarcascade_frontalface_default.xml\")\n",
    "video_cap=cv2.VideoCapture(0)\n",
    "while True :\n",
    "    ret, video_data= video_cap.read()\n",
    "    col = cv2.cvtColor(video_data,cv2.COLOR_BGR2GRAY)\n",
    "    faces=face_cap.detectMultiScale(\n",
    "        col,\n",
    "        scaleFactor=1.1,\n",
    "        minNeighbors=5,\n",
    "        minSize=(30,30),\n",
    "        flags=cv2.CASCADE_SCALE_IMAGE\n",
    "    )\n",
    "    for(x,y,w,h) in faces:\n",
    "        cv2.rectangle(video_data,(x,y),(x+w,y+h),(0,255,0),2)\n",
    "    cv2.imshow(\"video_live\",video_data)\n",
    "    if cv2.waitKey(10) == ord(\"a\"):\n",
    "        break\n",
    "video_cap.release()\n",
    "#to detect face, CLick \"a\" to close the camera"
   ]
  },
  {
   "cell_type": "code",
   "execution_count": null,
   "id": "38512bb6-ab42-4c8b-af73-f12e70a743ad",
   "metadata": {},
   "outputs": [],
   "source": []
  }
 ],
 "metadata": {
  "kernelspec": {
   "display_name": "Python 3 (ipykernel)",
   "language": "python",
   "name": "python3"
  },
  "language_info": {
   "codemirror_mode": {
    "name": "ipython",
    "version": 3
   },
   "file_extension": ".py",
   "mimetype": "text/x-python",
   "name": "python",
   "nbconvert_exporter": "python",
   "pygments_lexer": "ipython3",
   "version": "3.12.7"
  }
 },
 "nbformat": 4,
 "nbformat_minor": 5
}
